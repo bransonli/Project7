{
 "cells": [
  {
   "cell_type": "code",
   "execution_count": null,
   "id": "99a72a25",
   "metadata": {},
   "outputs": [],
   "source": [
    "r\"C:\\Users\\brans\\OneDrive\\Documents\\Application-files-utilities\\VScode\\Project-007\\temp\\image_arr.jpeg\""
   ]
  },
  {
   "cell_type": "code",
   "execution_count": 33,
   "id": "d48d3587",
   "metadata": {},
   "outputs": [],
   "source": [
    "# External libraries used for\n",
    "# Image IO\n",
    "from PIL import Image\n",
    "\n",
    "# Morphological filtering\n",
    "from skimage.morphology import opening\n",
    "from skimage.morphology import disk\n",
    "\n",
    "# Data handling\n",
    "import numpy as np\n",
    "\n",
    "# Connected component filtering\n",
    "import cv2\n",
    "\n",
    "from matplotlib import pyplot as plt\n",
    "\n",
    "from tesserocr import PyTessBaseAPI\n",
    "from PIL import Image"
   ]
  },
  {
   "cell_type": "code",
   "execution_count": 36,
   "id": "70a464ec",
   "metadata": {},
   "outputs": [
    {
     "data": {
      "image/png": "[encoded data removed]",
      "text/plain": [
       "<Figure size 432x288 with 1 Axes>"
      ]
     },
     "metadata": {
      "needs_background": "light"
     },
     "output_type": "display_data"
    }
   ],
   "source": [
    "black = (0,0,0)\n",
    "white = (255,255,255)\n",
    "threshold = (160,160,160)\n",
    "\n",
    "# Open input image in grayscale mode and get its pixels.\n",
    "\n",
    "\n",
    "img = Image.open(r\"C:\\Users\\brans\\OneDrive\\Documents\\Application-files-utilities\\VScode\\Project-007\\temp\\image_arr.jpeg\").convert(\"LA\")\n",
    "img = img.resize((img.size[0]*1, img.size[1]*1))\n",
    "\n",
    "pixels = img.getdata()\n",
    "\n",
    "newPixels = []\n",
    "\n",
    "# Compare each pixel \n",
    "for pixel in pixels:\n",
    "    if pixel < threshold:\n",
    "        newPixels.append(black)\n",
    "    else:\n",
    "        newPixels.append(white)\n",
    "\n",
    "# Create and save new image.\n",
    "newImg = Image.new(\"RGB\",img.size)\n",
    "newImg.putdata(newPixels)\n",
    "\n",
    "plt.imshow(newImg)\n",
    "plt.show()\n",
    "newImg.save(r'C:\\Users\\brans\\OneDrive\\Documents\\Application-files-utilities\\VScode\\Project-007\\temp\\image_arr1.jpeg')\n"
   ]
  },
  {
   "cell_type": "code",
   "execution_count": 37,
   "id": "acf4fd0c",
   "metadata": {},
   "outputs": [
    {
     "name": "stdout",
     "output_type": "stream",
     "text": [
      "Name\n",
      "\n"
     ]
    }
   ],
   "source": [
    "with PyTessBaseAPI(path=r'C:\\Users\\brans\\OneDrive\\Documents\\Application-files-utilities\\VScode\\Project-007\\Tessdata', lang='eng_best') as api:\n",
    "    api.SetImageFile(r'C:\\Users\\brans\\OneDrive\\Documents\\Application-files-utilities\\VScode\\Project-007\\temp\\image_arr1.jpeg')\n",
    "    print(api.GetUTF8Text())"
   ]
  }
 ],
 "metadata": {
  "kernelspec": {
   "display_name": "Python 3 (ipykernel)",
   "language": "python",
   "name": "python3"
  },
  "language_info": {
   "codemirror_mode": {
    "name": "ipython",
    "version": 3
   },
   "file_extension": ".py",
   "mimetype": "text/x-python",
   "name": "python",
   "nbconvert_exporter": "python",
   "pygments_lexer": "ipython3",
   "version": "3.7.13"
  }
 },
 "nbformat": 4,
 "nbformat_minor": 5
}

{
 "cells": [
  {
   "cell_type": "code",
   "execution_count": 11,
   "id": "d48d3587",
   "metadata": {},
   "outputs": [],
   "source": [
    "# External libraries used for\n",
    "# Image IO\n",
    "from PIL import Image\n",
    "\n",
    "# Morphological filtering\n",
    "from skimage.morphology import opening\n",
    "from skimage.morphology import disk\n",
    "\n",
    "# Data handling\n",
    "import numpy as np\n",
    "\n",
    "# Connected component filtering\n",
    "import cv2\n",
    "\n",
    "from matplotlib import pyplot as plt"
   ]
  },
  {
   "cell_type": "code",
   "execution_count": 14,
   "id": "70a464ec",
   "metadata": {},
   "outputs": [
    {
     "data": {
      "image/png": "[encoded data removed]",
      "text/plain": [
       "<Figure size 432x288 with 1 Axes>"
      ]
     },
     "metadata": {
      "needs_background": "light"
     },
     "output_type": "display_data"
    }
   ],
   "source": [
    "black = 0\n",
    "white = 255\n",
    "threshold = 160\n",
    "\n",
    "# Open input image in grayscale mode and get its pixels.\n",
    "img = cv2.imread(r\"C:\\Users\\brans\\OneDrive\\Documents\\Application-files-utilities\\VScode\\Project-007\\temp\\image_arr.jpeg\")\n",
    "pixels = np.array(img)[:,:,0]\n",
    "\n",
    "# Remove pixels above threshold\n",
    "pixels[pixels > threshold] = white\n",
    "pixels[pixels < threshold] = black\n",
    "\n",
    "\n",
    "# Morphological opening\n",
    "blobSize = 1 # Select the maximum radius of the blobs you would like to remove\n",
    "structureElement = disk(blobSize)  # you can define different shapes, here we take a disk shape\n",
    "# We need to invert the image such that black is background and white foreground to perform the opening\n",
    "pixels = np.invert(opening(np.invert(pixels), structureElement))\n",
    "\n",
    "\n",
    "# Create and save new image.\n",
    "newImg = Image.fromarray(pixels).convert('RGB')\n",
    "newImg.save(\"newImage1.PNG\")\n",
    "\n",
    "# Find the connected components (black objects in your image)\n",
    "# Because the function searches for white connected components on a black background, we need to invert the image\n",
    "nb_components, output, stats, centroids = cv2.connectedComponentsWithStats(np.invert(pixels), connectivity=8)\n",
    "\n",
    "# For every connected component in your image, you can obtain the number of pixels from the stats variable in the last\n",
    "# column. We remove the first entry from sizes, because this is the entry of the background connected component\n",
    "sizes = stats[1:,-1]\n",
    "nb_components -= 1\n",
    "\n",
    "# Define the minimum size (number of pixels) a component should consist of\n",
    "minimum_size = 100\n",
    "\n",
    "# Create a new image\n",
    "newPixels = np.ones(pixels.shape)*255\n",
    "\n",
    "# Iterate over all components in the image, only keep the components larger than minimum size\n",
    "for i in range(1, nb_components):\n",
    "    if sizes[i] > minimum_size:\n",
    "        newPixels[output == i+1] = 0\n",
    "\n",
    "\n",
    "plt.imshow(newPixels)\n",
    "plt.show()\n",
    "\n",
    "# Create and save new image.\n",
    "# newImg = Image.fromarray(newPixels).convert('RGB')\n",
    "# newImg.save(\"newImage2.PNG\")\n"
   ]
  },
  {
   "cell_type": "code",
   "execution_count": null,
   "id": "acf4fd0c",
   "metadata": {},
   "outputs": [],
   "source": []
  }
 ],
 "metadata": {
  "kernelspec": {
   "display_name": "Python 3 (ipykernel)",
   "language": "python",
   "name": "python3"
  },
  "language_info": {
   "codemirror_mode": {
    "name": "ipython",
    "version": 3
   },
   "file_extension": ".py",
   "mimetype": "text/x-python",
   "name": "python",
   "nbconvert_exporter": "python",
   "pygments_lexer": "ipython3",
   "version": "3.7.13"
  }
 },
 "nbformat": 4,
 "nbformat_minor": 5
}

{
 "cells": [
  {
   "cell_type": "code",
   "execution_count": 1,
   "id": "bffb6d69",
   "metadata": {},
   "outputs": [],
   "source": [
    "import cv2\n",
    "import numpy as np\n",
    "from matplotlib import pyplot as plt\n",
    "import time\n",
    "from tesserocr import PyTessBaseAPI\n",
    "import os\n",
    "from PIL import Image\n",
    "import json"
   ]
  },
  {
   "cell_type": "code",
   "execution_count": 40,
   "id": "88c55ad2",
   "metadata": {},
   "outputs": [],
   "source": [
    "#loading the template\n",
    "\n",
    "template = json.loads(open('template.json').read())\n",
    "template = json.loads(template)\n",
    "\n",
    "template_dimension = template.get(\"image_dimension\")\n",
    "template_data_fields = template.get(\"data_fields\")\n",
    "\n",
    "\n",
    "\n",
    "\n",
    "#loading the image\n",
    "img =  cv2.imread(r\"C:\\Users\\brans\\OneDrive\\Documents\\Application-files-utilities\\VScode\\Project-007\\Data-storage\\filled-form-1.jpg\")\n",
    "gray = cv2.cvtColor(img,cv2.COLOR_BGR2GRAY)\n",
    "\n",
    "thresh_inv = cv2.threshold(gray, 0, 255, cv2.THRESH_BINARY_INV+cv2.THRESH_OTSU)[1]\n",
    "\n",
    "# Blur the image\n",
    "blur = cv2.GaussianBlur(thresh_inv,(1,1),0)\n",
    "\n",
    "thresh = cv2.threshold(blur, 0, 255, cv2.THRESH_BINARY+cv2.THRESH_OTSU)[1]\n",
    "\n",
    "#resizing image to match the template\n",
    "thresh = cv2.resize(thresh, (template_dimension[0], template_dimension[1]))"
   ]
  },
  {
   "cell_type": "code",
   "execution_count": 43,
   "id": "8a060e5c",
   "metadata": {},
   "outputs": [],
   "source": [
    "data = {}"
   ]
  },
  {
   "cell_type": "code",
   "execution_count": 47,
   "id": "a7cb4a2a",
   "metadata": {},
   "outputs": [],
   "source": [
    "for i in range(len(template_data_fields)):\n",
    "        \n",
    "        c1, c2, c3, c4 = template_data_fields[i][0][0], template_data_fields[i][0][1], template_data_fields[i][0][2], template_data_fields[i][0][3]\n",
    "        image_arr = img\n",
    "        image_arr = image_arr[c1:c2, c3:c4]\n",
    "        \n",
    "        # Temporary saving image for OCR processing\n",
    "        im = Image.fromarray(image_arr)\n",
    "        im.save(r\"C:\\Users\\brans\\OneDrive\\Documents\\Application-files-utilities\\VScode\\Project-007\\temp\\image_arr.jpeg\")\n",
    "\n",
    "        # OCR process\n",
    "        with PyTessBaseAPI(path=r'C:\\Users\\brans\\OneDrive\\Documents\\Application-files-utilities\\VScode\\Project-007\\Tessdata', lang='eng_best') as api:\n",
    "            api.SetImageFile(r\"C:\\Users\\brans\\OneDrive\\Documents\\Application-files-utilities\\VScode\\Project-007\\temp\\image_arr.jpeg\")\n",
    "            data[template_data_fields[i][1][0]] = api.GetUTF8Text()"
   ]
  },
  {
   "cell_type": "code",
   "execution_count": 48,
   "id": "3b96ee86",
   "metadata": {},
   "outputs": [
    {
     "name": "stdout",
     "output_type": "stream",
     "text": [
      "{'First\\n\\n \\n': 'Aaron\\n', '': ''}\n"
     ]
    }
   ],
   "source": [
    "print(data)"
   ]
  },
  {
   "cell_type": "code",
   "execution_count": null,
   "id": "58c7efcb",
   "metadata": {},
   "outputs": [],
   "source": []
  }
 ],
 "metadata": {
  "kernelspec": {
   "display_name": "Python 3 (ipykernel)",
   "language": "python",
   "name": "python3"
  },
  "language_info": {
   "codemirror_mode": {
    "name": "ipython",
    "version": 3
   },
   "file_extension": ".py",
   "mimetype": "text/x-python",
   "name": "python",
   "nbconvert_exporter": "python",
   "pygments_lexer": "ipython3",
   "version": "3.7.13"
  }
 },
 "nbformat": 4,
 "nbformat_minor": 5
}

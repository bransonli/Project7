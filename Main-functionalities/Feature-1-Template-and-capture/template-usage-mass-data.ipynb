{
 "cells": [
  {
   "cell_type": "code",
   "execution_count": 5,
   "id": "3f8312c9",
   "metadata": {},
   "outputs": [],
   "source": [
    "import cv2\n",
    "import numpy as np\n",
    "from matplotlib import pyplot as plt\n",
    "import time\n",
    "from tesserocr import PyTessBaseAPI\n",
    "import os\n",
    "from PIL import Image\n",
    "import json"
   ]
  },
  {
   "cell_type": "code",
   "execution_count": 6,
   "id": "8e14ff63",
   "metadata": {},
   "outputs": [
    {
     "ename": "FileNotFoundError",
     "evalue": "[WinError 3] The system cannot find the path specified: 'C:\\\\Users\\\\brans\\\\Downloads\\\\data'",
     "output_type": "error",
     "traceback": [
      "\u001b[1;31m---------------------------------------------------------------------------\u001b[0m",
      "\u001b[1;31mFileNotFoundError\u001b[0m                         Traceback (most recent call last)",
      "\u001b[1;32m~\\AppData\\Local\\Temp\\ipykernel_10040\\2945716866.py\u001b[0m in \u001b[0;36m<module>\u001b[1;34m\u001b[0m\n\u001b[0;32m     12\u001b[0m \u001b[0mfilenames\u001b[0m \u001b[1;33m=\u001b[0m \u001b[1;33m[\u001b[0m\u001b[1;33m]\u001b[0m\u001b[1;33m\u001b[0m\u001b[1;33m\u001b[0m\u001b[0m\n\u001b[0;32m     13\u001b[0m \u001b[1;31m# iterate over files in that directory\u001b[0m\u001b[1;33m\u001b[0m\u001b[1;33m\u001b[0m\u001b[1;33m\u001b[0m\u001b[0m\n\u001b[1;32m---> 14\u001b[1;33m \u001b[1;32mfor\u001b[0m \u001b[0mfilename\u001b[0m \u001b[1;32min\u001b[0m \u001b[0mos\u001b[0m\u001b[1;33m.\u001b[0m\u001b[0mlistdir\u001b[0m\u001b[1;33m(\u001b[0m\u001b[0mdirectory\u001b[0m\u001b[1;33m)\u001b[0m\u001b[1;33m:\u001b[0m\u001b[1;33m\u001b[0m\u001b[1;33m\u001b[0m\u001b[0m\n\u001b[0m\u001b[0;32m     15\u001b[0m     \u001b[0mf\u001b[0m \u001b[1;33m=\u001b[0m \u001b[0mos\u001b[0m\u001b[1;33m.\u001b[0m\u001b[0mpath\u001b[0m\u001b[1;33m.\u001b[0m\u001b[0mjoin\u001b[0m\u001b[1;33m(\u001b[0m\u001b[0mdirectory\u001b[0m\u001b[1;33m,\u001b[0m \u001b[0mfilename\u001b[0m\u001b[1;33m)\u001b[0m\u001b[1;33m\u001b[0m\u001b[1;33m\u001b[0m\u001b[0m\n\u001b[0;32m     16\u001b[0m     \u001b[1;31m# checking if it is a file\u001b[0m\u001b[1;33m\u001b[0m\u001b[1;33m\u001b[0m\u001b[1;33m\u001b[0m\u001b[0m\n",
      "\u001b[1;31mFileNotFoundError\u001b[0m: [WinError 3] The system cannot find the path specified: 'C:\\\\Users\\\\brans\\\\Downloads\\\\data'"
     ]
    }
   ],
   "source": [
    "#loading the template\n",
    "\n",
    "template = json.loads(open(r\"C:\\Users\\brans\\Downloads\\template.json\").read())\n",
    "template = json.loads(template)\n",
    "\n",
    "template_dimension = template.get(\"image_dimension\")\n",
    "template_data_fields = template.get(\"data_fields\")\n",
    "\n",
    "\n",
    "directory = r\"C:\\Users\\brans\\Downloads\\data\"\n",
    "files = []\n",
    "filenames = []\n",
    "# iterate over files in that directory\n",
    "for filename in os.listdir(directory):\n",
    "    f = os.path.join(directory, filename)\n",
    "    # checking if it is a file\n",
    "    if os.path.isfile(f):\n",
    "        files.append(f)\n",
    "        filenames.append(filename)\n",
    "\n",
    "data = {}        \n",
    "\n",
    "for h in range(len(files)):\n",
    "    path = r\"{}\".format(files[h])\n",
    "    \n",
    "    #loading the image\n",
    "    img =  cv2.imread(path)\n",
    "    gray = cv2.cvtColor(img,cv2.COLOR_BGR2GRAY)\n",
    "\n",
    "    thresh_inv = cv2.threshold(gray, 0, 255, cv2.THRESH_BINARY_INV+cv2.THRESH_OTSU)[1]\n",
    "\n",
    "    # Blur the image\n",
    "    blur = cv2.GaussianBlur(thresh_inv,(1,1),0)\n",
    "\n",
    "    thresh = cv2.threshold(blur, 0, 255, cv2.THRESH_BINARY+cv2.THRESH_OTSU)[1]\n",
    "\n",
    "    #resizing image to match the template\n",
    "    thresh = cv2.resize(thresh, (template_dimension[0], template_dimension[1]))\n",
    "    \n",
    "    \n",
    "    temp_data = {}\n",
    "\n",
    "    for i in range(len(template_data_fields)):\n",
    "\n",
    "            c1, c2, c3, c4 = template_data_fields[i][0][0], template_data_fields[i][0][1], template_data_fields[i][0][2], template_data_fields[i][0][3]\n",
    "            image_arr = img\n",
    "            image_arr = image_arr[c1:c2, c3:c4]\n",
    "\n",
    "            # Temporary saving image for OCR processing\n",
    "            im = Image.fromarray(image_arr)\n",
    "            im.save(r\"C:\\Users\\brans\\OneDrive\\Documents\\Application-files-utilities\\VScode\\Project-007\\temp\\image_arr.jpeg\")\n",
    "\n",
    "            # OCR process\n",
    "            with PyTessBaseAPI(path=r'C:\\Users\\brans\\OneDrive\\Documents\\Application-files-utilities\\VScode\\Project-007\\Tessdata', lang='eng_best') as api:\n",
    "                api.SetImageFile(r\"C:\\Users\\brans\\OneDrive\\Documents\\Application-files-utilities\\VScode\\Project-007\\temp\\image_arr.jpeg\")\n",
    "                temp_data[template_data_fields[i][1][0]] = api.GetUTF8Text()\n",
    "                \n",
    "    data[filenames[h]] = temp_data\n",
    "    \n",
    "    \n",
    "    \n",
    "\n",
    "\n",
    "\n"
   ]
  },
  {
   "cell_type": "code",
   "execution_count": 13,
   "id": "75317bb7",
   "metadata": {},
   "outputs": [],
   "source": [
    "data_json = json.dumps(data)\n",
    "\n",
    "with open(r\"C:\\Users\\brans\\Downloads\\data.json\", \"w\") as outfile:\n",
    "    json.dump(data_json, outfile)"
   ]
  },
  {
   "cell_type": "code",
   "execution_count": 10,
   "id": "0ac2f16d",
   "metadata": {},
   "outputs": [
    {
     "name": "stdout",
     "output_type": "stream",
     "text": [
      "{'filled-form-1.jpg': {'First\\n\\n \\n': 'Aaron\\n', '': ''}, 'filled-form-2.jpg': {'First\\n\\n \\n': 'Aaron\\n', '': ''}}\n"
     ]
    }
   ],
   "source": [
    "print(data)"
   ]
  },
  {
   "cell_type": "code",
   "execution_count": null,
   "id": "d6b0d50a",
   "metadata": {},
   "outputs": [],
   "source": []
  }
 ],
 "metadata": {
  "kernelspec": {
   "display_name": "Python 3 (ipykernel)",
   "language": "python",
   "name": "python3"
  },
  "language_info": {
   "codemirror_mode": {
    "name": "ipython",
    "version": 3
   },
   "file_extension": ".py",
   "mimetype": "text/x-python",
   "name": "python",
   "nbconvert_exporter": "python",
   "pygments_lexer": "ipython3",
   "version": "3.7.13"
  }
 },
 "nbformat": 4,
 "nbformat_minor": 5
}

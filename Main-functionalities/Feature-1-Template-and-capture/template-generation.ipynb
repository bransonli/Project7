{
 "cells": [
  {
   "cell_type": "code",
   "execution_count": 1,
   "id": "785a942a",
   "metadata": {},
   "outputs": [],
   "source": [
    "import cv2\n",
    "import numpy as np\n",
    "from matplotlib import pyplot as plt\n",
    "import time\n",
    "from tesserocr import PyTessBaseAPI\n",
    "import os\n",
    "from PIL import Image\n",
    "import json"
   ]
  },
  {
   "cell_type": "code",
   "execution_count": 2,
   "id": "937d2d97",
   "metadata": {},
   "outputs": [],
   "source": [
    "data = []"
   ]
  },
  {
   "cell_type": "code",
   "execution_count": 3,
   "id": "3b938e71",
   "metadata": {},
   "outputs": [],
   "source": [
    "img =  cv2.imread(r\"C:\\Users\\brans\\OneDrive\\Documents\\Application-files-utilities\\VScode\\Project-007\\Data-storage\\form-5.jpg\")\n",
    "gray = cv2.cvtColor(img,cv2.COLOR_BGR2GRAY)\n",
    "\n",
    "thresh_inv = cv2.threshold(gray, 0, 255, cv2.THRESH_BINARY_INV+cv2.THRESH_OTSU)[1]\n",
    "\n",
    "# Blur the image\n",
    "blur = cv2.GaussianBlur(thresh_inv,(1,1),0)\n",
    "\n",
    "thresh = cv2.threshold(blur, 0, 255, cv2.THRESH_BINARY+cv2.THRESH_OTSU)[1]\n",
    "\n",
    "# find contours\n",
    "cnts = cv2.findContours(thresh, cv2.RETR_EXTERNAL, cv2.CHAIN_APPROX_SIMPLE)[0]\n",
    "\n"
   ]
  },
  {
   "cell_type": "code",
   "execution_count": 4,
   "id": "219748ac",
   "metadata": {},
   "outputs": [],
   "source": [
    "for cnt in cnts: \n",
    "    approx = cv2.approxPolyDP(cnt,0.01*cv2.arcLength(cnt,True),True)\n",
    "    \n",
    "    if len(approx) == 4: \n",
    "        coord_and_data = []\n",
    "        \n",
    "        x, y, w, h = cv2.boundingRect(cnt)\n",
    "\n",
    "        c1 = y\n",
    "        c2 = y+h\n",
    "        c3 = x\n",
    "        c4 = x+w\n",
    "\n",
    "        # Cropping\n",
    "        image_arr = img\n",
    "        image_arr = image_arr[c1:c2, c3:c4]\n",
    "        \n",
    "        #plt.imshow(image_arr)\n",
    "        #plt.show()\n",
    "        \n",
    "        # Saving coordinates\n",
    "        coord_and_data.append([c1, c2, c3, c4])\n",
    "\n",
    "        # Temporary saving image for OCR processing\n",
    "        im = Image.fromarray(image_arr)\n",
    "        im.save(r\"C:\\Users\\brans\\OneDrive\\Documents\\Application-files-utilities\\VScode\\Project-007\\temp\\image_arr.jpeg\")\n",
    "\n",
    "        # OCR process\n",
    "        with PyTessBaseAPI(path=r'C:\\Users\\brans\\OneDrive\\Documents\\Application-files-utilities\\VScode\\Project-007\\Tessdata', lang='eng_best') as api:\n",
    "            api.SetImageFile(r\"C:\\Users\\brans\\OneDrive\\Documents\\Application-files-utilities\\VScode\\Project-007\\temp\\image_arr.jpeg\")\n",
    "            coord_and_data.append([api.GetUTF8Text()])\n",
    "        \n",
    "        # Deleting image    \n",
    "        os.remove(r\"C:\\Users\\brans\\OneDrive\\Documents\\Application-files-utilities\\VScode\\Project-007\\temp\\image_arr.jpeg\") \n",
    "        \n",
    "        # Saving data of text\n",
    "        data.append(coord_and_data)"
   ]
  },
  {
   "cell_type": "code",
   "execution_count": 5,
   "id": "9cbcb970",
   "metadata": {},
   "outputs": [
    {
     "name": "stdout",
     "output_type": "stream",
     "text": [
      "[[[230, 255, 281, 356], [' \\n']], [[102, 116, 474, 477], ['']], [[35, 67, 264, 630], ['']]]\n",
      "(540, 960)\n"
     ]
    }
   ],
   "source": [
    "print(data)\n",
    "print(thresh.shape)"
   ]
  },
  {
   "cell_type": "code",
   "execution_count": 6,
   "id": "4213c6ad",
   "metadata": {},
   "outputs": [],
   "source": [
    "template = {\n",
    "  \"image_dimension\": thresh.shape,\n",
    "  \"data_fields\": data,\n",
    "}\n",
    "\n",
    "template_json = json.dumps(template)\n",
    "\n",
    "with open(\"template.json\", \"w\") as outfile:\n",
    "    json.dump(template_json, outfile)"
   ]
  },
  {
   "cell_type": "code",
   "execution_count": null,
   "id": "cd6ec6b3",
   "metadata": {},
   "outputs": [],
   "source": []
  }
 ],
 "metadata": {
  "kernelspec": {
   "display_name": "Python 3 (ipykernel)",
   "language": "python",
   "name": "python3"
  },
  "language_info": {
   "codemirror_mode": {
    "name": "ipython",
    "version": 3
   },
   "file_extension": ".py",
   "mimetype": "text/x-python",
   "name": "python",
   "nbconvert_exporter": "python",
   "pygments_lexer": "ipython3",
   "version": "3.7.13"
  }
 },
 "nbformat": 4,
 "nbformat_minor": 5
}

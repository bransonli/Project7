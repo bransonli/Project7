{
 "cells": [
  {
   "cell_type": "code",
   "execution_count": 31,
   "id": "d821c82f",
   "metadata": {},
   "outputs": [],
   "source": [
    "import cv2\n",
    "import numpy as np\n",
    "from matplotlib import pyplot as plt\n",
    "import time\n",
    "from tesserocr import PyTessBaseAPI\n",
    "import os\n",
    "from PIL import Image\n",
    "import json\n",
    "import string\n",
    "import pandas as pd"
   ]
  },
  {
   "cell_type": "code",
   "execution_count": 32,
   "id": "098857f0",
   "metadata": {},
   "outputs": [],
   "source": [
    "class cv_data_conversion: \n",
    "    def __init__(self):\n",
    "        pass\n",
    "    \n",
    "    class template_mode:\n",
    "        def __init_(self):\n",
    "            pass\n",
    "        \n",
    "        def process_template(self, template_path, export_path):\n",
    "            template_path = r\"{}\".format(template_path)\n",
    "            export_path = r\"{}\".format(export_path)\n",
    "            \n",
    "            img =  cv2.imread(template_path)\n",
    "            gray = cv2.cvtColor(img,cv2.COLOR_BGR2GRAY)\n",
    "            thresh_inv = cv2.threshold(gray, 0, 255, cv2.THRESH_BINARY_INV+cv2.THRESH_OTSU)[1]\n",
    "            # Blur the image\n",
    "            blur = cv2.GaussianBlur(thresh_inv,(1,1),0)\n",
    "            thresh = cv2.threshold(blur, 0, 255, cv2.THRESH_BINARY+cv2.THRESH_OTSU)[1]\n",
    "            # find contours\n",
    "            cnts = cv2.findContours(thresh, cv2.RETR_EXTERNAL, cv2.CHAIN_APPROX_SIMPLE)[0]\n",
    "            \n",
    "            data = []\n",
    "            \n",
    "            for cnt in cnts: \n",
    "                approx = cv2.approxPolyDP(cnt,0.01*cv2.arcLength(cnt,True),True)\n",
    "\n",
    "                if len(approx) == 4: \n",
    "                    coord_and_data = []\n",
    "\n",
    "                    x, y, w, h = cv2.boundingRect(cnt)\n",
    "\n",
    "                    c1 = y\n",
    "                    c2 = y+h\n",
    "                    c3 = x\n",
    "                    c4 = x+w\n",
    "\n",
    "                    # Cropping\n",
    "                    image_arr = gray\n",
    "                    image_arr = image_arr[c1:c2, c3:c4]\n",
    "                    image_arr = cv2.resize(image_arr, (image_arr.shape[1]*2, image_arr.shape[0]*2))\n",
    "\n",
    "                    \n",
    "                    black = 0\n",
    "                    white = 255\n",
    "                    threshold = 160\n",
    "                    \n",
    "                    # Compare each pixel \n",
    "                    for i in range(len(image_arr)):\n",
    "                        for j in range(len(image_arr[i])):\n",
    "                            if image_arr[i][j] < threshold:\n",
    "                                image_arr[i][j] = black\n",
    "                            else:\n",
    "                                image_arr[i][j] = white\n",
    "                    \n",
    "                    plt.imshow(image_arr)\n",
    "                    plt.show()\n",
    "\n",
    "                    # Saving coordinates\n",
    "                    coord_and_data.append([c1, c2, c3, c4])\n",
    "\n",
    "                    # Temporary saving image for OCR processing\n",
    "                    im = Image.fromarray(image_arr)\n",
    "                    im.save(r\"..\\..\\temp\\image_arr.jpeg\")\n",
    "\n",
    "                    # OCR process\n",
    "                    with PyTessBaseAPI(path=r'..\\..\\Tessdata', lang='eng_best') as api:\n",
    "                        api.SetImageFile(r\"..\\..\\temp\\image_arr.jpeg\")\n",
    "                        coord_and_data.append([api.GetUTF8Text()])\n",
    "                        print(api.GetUTF8Text())\n",
    "\n",
    "                    # Deleting image    \n",
    "                    os.remove(r\"..\\..\\temp\\image_arr.jpeg\") \n",
    "\n",
    "                    # Saving data of text\n",
    "                    data.append(coord_and_data)\n",
    "                    \n",
    "                    template = {\n",
    "                      \"image_dimension\": thresh.shape,\n",
    "                      \"data_fields\": data,\n",
    "                    }\n",
    "\n",
    "                    template_json = json.dumps(template)\n",
    "\n",
    "                    with open(export_path, \"w\") as outfile:\n",
    "                        json.dump(template_json, outfile)\n",
    "                        \n",
    "                        \n",
    "        def template_usage(self, template_path, data_path, export_path):\n",
    "            template_path = r\"{}\".format(template_path)\n",
    "            data_path = r\"{}\".format(data_path)\n",
    "            export_path = r\"{}\".format(export_path)\n",
    "            \n",
    "            #loading the template\n",
    "            template = json.loads(open(template_path).read())\n",
    "            template = json.loads(template)\n",
    "\n",
    "            template_dimension = template.get(\"image_dimension\")\n",
    "            template_data_fields = template.get(\"data_fields\")\n",
    "\n",
    "            \n",
    "            # iterate over files in that directory\n",
    "            directory = data_path\n",
    "            files = []\n",
    "            filenames = []\n",
    "            \n",
    "            for filename in os.listdir(directory):\n",
    "                f = os.path.join(directory, filename)\n",
    "                # checking if it is a file\n",
    "                if os.path.isfile(f):\n",
    "                    files.append(f)\n",
    "                    filenames.append(filename)\n",
    "\n",
    "            data = {}        \n",
    "\n",
    "            for h in range(len(files)):\n",
    "                path = r\"{}\".format(files[h])\n",
    "\n",
    "                #loading the image\n",
    "                img =  cv2.imread(path)\n",
    "                gray = cv2.cvtColor(img,cv2.COLOR_BGR2GRAY)\n",
    "\n",
    "                thresh_inv = cv2.threshold(gray, 0, 255, cv2.THRESH_BINARY_INV+cv2.THRESH_OTSU)[1]\n",
    "\n",
    "                # Blur the image\n",
    "                blur = cv2.GaussianBlur(thresh_inv,(1,1),0)\n",
    "\n",
    "                thresh = cv2.threshold(blur, 0, 255, cv2.THRESH_BINARY+cv2.THRESH_OTSU)[1]\n",
    "\n",
    "                #resizing image to match the template\n",
    "                thresh = cv2.resize(thresh, (template_dimension[1], template_dimension[0]))\n",
    "\n",
    "\n",
    "                temp_data = {}\n",
    "\n",
    "                for i in range(len(template_data_fields)):\n",
    "\n",
    "                        c1, c2, c3, c4 = template_data_fields[i][0][0], template_data_fields[i][0][1], template_data_fields[i][0][2], template_data_fields[i][0][3]\n",
    "                        image_arr = thresh\n",
    "                        image_arr = image_arr[c1:c2, c3:c4]\n",
    "                        image_arr = cv2.resize(image_arr, (image_arr.shape[1]*1, image_arr.shape[0]*1))\n",
    "                        \n",
    "                        print(image_arr.shape())\n",
    "                        \n",
    "                        black = 0\n",
    "                        white = 255\n",
    "                        threshold = 160\n",
    "                        \n",
    "                        # Compare each pixel \n",
    "                        for i in range(len(image_arr)):\n",
    "                            for j in range(len(image_arr[i])):\n",
    "                                if image_arr[i][j] < threshold:\n",
    "                                    image_arr[i][j] = black\n",
    "                                else:\n",
    "                                    image_arr[i][j] = white\n",
    "            \n",
    "                        # Temporary saving cropped image for OCR processing\n",
    "                        im = Image.fromarray(image_arr)\n",
    "                        #plt.imshow(image_arr)\n",
    "                        #plt.show()\n",
    "                        im.save(r\"..\\..\\temp\\image_arr.jpeg\")\n",
    "\n",
    "                        # OCR process\n",
    "                        with PyTessBaseAPI(path=r'..\\..\\Tessdata', lang='eng_best') as api:\n",
    "                            api.SetImageFile(r\"..\\..\\temp\\image_arr.jpeg\")\n",
    "                            temp_data[template_data_fields[i][1][0]] = api.GetUTF8Text()\n",
    "\n",
    "                data[filenames[h]] = temp_data\n",
    "                \n",
    "            #exporting data    \n",
    "            data_json = json.dumps(data)\n",
    "\n",
    "            with open(r\"C:\\Users\\brans\\Downloads\\data.json\", \"w\") as outfile:\n",
    "                json.dump(data_json, outfile)\n",
    "                \n",
    "                \n",
    "    class spreadsheet_mode: \n",
    "        def __init__(self):\n",
    "            pass\n",
    "        \n",
    "        def spreadsheet_capture(self, image_path, export_path):\n",
    "            image_path = r\"{}\".format(image_path)\n",
    "            export_path = r\"{}\".format(export_path)\n",
    "            \n",
    "            with PyTessBaseAPI(path = r'..\\..\\Tessdata', lang='eng_best') as api:\n",
    "                api.SetImageFile(image_path)\n",
    "                text = api.GetUTF8Text()\n",
    "                text = text.replace(\"\\n\", \" xxx \")\n",
    "                text = text.split()\n",
    "                \n",
    "\n",
    "                array = []\n",
    "                temp_array = []\n",
    "                count = 0\n",
    "\n",
    "                while count < len(text):\n",
    "                    if text[count] == 'xxx':\n",
    "                        array.append(temp_array)\n",
    "                        temp_array = []\n",
    "                    else: \n",
    "                        temp_array.append(text[count])\n",
    "\n",
    "                    count = count + 1\n",
    "                    \n",
    "            df = pd.DataFrame(array)\n",
    "            df.to_csv(export_path, index=False)\n",
    "                \n",
    "                "
   ]
  },
  {
   "cell_type": "code",
   "execution_count": 33,
   "id": "b167e5fa",
   "metadata": {},
   "outputs": [],
   "source": [
    "template_file = r\"C:\\Users\\brans\\OneDrive\\Documents\\Application-files-utilities\\VScode\\Project-007\\TemplateModeAlphaTesting\\Template.jpg\"\n",
    "template_json = r\"C:\\Users\\brans\\Downloads\\template.json\"\n",
    "files_to_capture = r\"C:\\Users\\brans\\OneDrive\\Documents\\Application-files-utilities\\VScode\\Project-007\\TemplateModeAlphaTesting\\Data\"\n",
    "data_export = r\"C:\\Users\\brans\\Downloads\\data.json\""
   ]
  },
  {
   "cell_type": "code",
   "execution_count": 34,
   "id": "2115b6b0",
   "metadata": {},
   "outputs": [
    {
     "data": {
      "image/png": "[encoded data removed]",
      "text/plain": [
       "<Figure size 432x288 with 1 Axes>"
      ]
     },
     "metadata": {
      "needs_background": "light"
     },
     "output_type": "display_data"
    },
    {
     "name": "stdout",
     "output_type": "stream",
     "text": [
      "=H ENFAYe lo [51S\n",
      "\n"
     ]
    },
    {
     "data": {
      "image/png": "[encoded data removed]",
      "text/plain": [
       "<Figure size 432x288 with 1 Axes>"
      ]
     },
     "metadata": {
      "needs_background": "light"
     },
     "output_type": "display_data"
    },
    {
     "name": "stdout",
     "output_type": "stream",
     "text": [
      "=VTallaleMmdalelsl=\n",
      "\n"
     ]
    },
    {
     "data": {
      "image/png": "[encoded data removed]",
      "text/plain": [
       "<Figure size 432x288 with 1 Axes>"
      ]
     },
     "metadata": {
      "needs_background": "light"
     },
     "output_type": "display_data"
    },
    {
     "name": "stdout",
     "output_type": "stream",
     "text": [
      "DEVI [CR glelplS\n",
      "\n"
     ]
    },
    {
     "data": {
      "image/png": "[encoded data removed]",
      "text/plain": [
       "<Figure size 432x288 with 1 Axes>"
      ]
     },
     "metadata": {
      "needs_background": "light"
     },
     "output_type": "display_data"
    },
    {
     "name": "stdout",
     "output_type": "stream",
     "text": [
      "PP\n",
      "\n"
     ]
    },
    {
     "data": {
      "image/png": "[encoded data removed]",
      "text/plain": [
       "<Figure size 432x288 with 1 Axes>"
      ]
     },
     "metadata": {
      "needs_background": "light"
     },
     "output_type": "display_data"
    },
    {
     "name": "stdout",
     "output_type": "stream",
     "text": [
      "Ale\n",
      "\n"
     ]
    },
    {
     "data": {
      "image/png": "[encoded data removed]",
      "text/plain": [
       "<Figure size 432x288 with 1 Axes>"
      ]
     },
     "metadata": {
      "needs_background": "light"
     },
     "output_type": "display_data"
    },
    {
     "name": "stdout",
     "output_type": "stream",
     "text": [
      "State\n",
      "\n"
     ]
    },
    {
     "data": {
      "image/png": "[encoded data removed]",
      "text/plain": [
       "<Figure size 432x288 with 1 Axes>"
      ]
     },
     "metadata": {
      "needs_background": "light"
     },
     "output_type": "display_data"
    },
    {
     "name": "stdout",
     "output_type": "stream",
     "text": [
      "City\n",
      "\n"
     ]
    },
    {
     "data": {
      "image/png": "[encoded data removed]",
      "text/plain": [
       "<Figure size 432x288 with 1 Axes>"
      ]
     },
     "metadata": {
      "needs_background": "light"
     },
     "output_type": "display_data"
    },
    {
     "name": "stdout",
     "output_type": "stream",
     "text": [
      "Address\n",
      "\n"
     ]
    },
    {
     "data": {
      "image/png": "[encoded data removed]",
      "text/plain": [
       "<Figure size 432x288 with 1 Axes>"
      ]
     },
     "metadata": {
      "needs_background": "light"
     },
     "output_type": "display_data"
    },
    {
     "name": "stdout",
     "output_type": "stream",
     "text": [
      "NETIC\n",
      "\n"
     ]
    }
   ],
   "source": [
    "converter = cv_data_conversion().template_mode().process_template(template_file, template_json)"
   ]
  },
  {
   "cell_type": "code",
   "execution_count": 21,
   "id": "3ec051b4",
   "metadata": {
    "scrolled": true
   },
   "outputs": [
    {
     "ename": "TypeError",
     "evalue": "'tuple' object is not callable",
     "output_type": "error",
     "traceback": [
      "\u001b[1;31m---------------------------------------------------------------------------\u001b[0m",
      "\u001b[1;31mTypeError\u001b[0m                                 Traceback (most recent call last)",
      "\u001b[1;32m~\\AppData\\Local\\Temp\\ipykernel_5116\\3106949763.py\u001b[0m in \u001b[0;36m<module>\u001b[1;34m\u001b[0m\n\u001b[1;32m----> 1\u001b[1;33m \u001b[0mprocess_image\u001b[0m \u001b[1;33m=\u001b[0m \u001b[0mcv_data_conversion\u001b[0m\u001b[1;33m(\u001b[0m\u001b[1;33m)\u001b[0m\u001b[1;33m.\u001b[0m\u001b[0mtemplate_mode\u001b[0m\u001b[1;33m(\u001b[0m\u001b[1;33m)\u001b[0m\u001b[1;33m.\u001b[0m\u001b[0mtemplate_usage\u001b[0m\u001b[1;33m(\u001b[0m\u001b[0mtemplate_json\u001b[0m\u001b[1;33m,\u001b[0m \u001b[0mfiles_to_capture\u001b[0m\u001b[1;33m,\u001b[0m \u001b[0mdata_export\u001b[0m\u001b[1;33m)\u001b[0m\u001b[1;33m\u001b[0m\u001b[1;33m\u001b[0m\u001b[0m\n\u001b[0m",
      "\u001b[1;32m~\\AppData\\Local\\Temp\\ipykernel_5116\\472837837.py\u001b[0m in \u001b[0;36mtemplate_usage\u001b[1;34m(self, template_path, data_path, export_path)\u001b[0m\n\u001b[0;32m    140\u001b[0m                         \u001b[0mimage_arr\u001b[0m \u001b[1;33m=\u001b[0m \u001b[0mcv2\u001b[0m\u001b[1;33m.\u001b[0m\u001b[0mresize\u001b[0m\u001b[1;33m(\u001b[0m\u001b[0mimage_arr\u001b[0m\u001b[1;33m,\u001b[0m \u001b[1;33m(\u001b[0m\u001b[0mimage_arr\u001b[0m\u001b[1;33m.\u001b[0m\u001b[0mshape\u001b[0m\u001b[1;33m[\u001b[0m\u001b[1;36m1\u001b[0m\u001b[1;33m]\u001b[0m\u001b[1;33m*\u001b[0m\u001b[1;36m1\u001b[0m\u001b[1;33m,\u001b[0m \u001b[0mimage_arr\u001b[0m\u001b[1;33m.\u001b[0m\u001b[0mshape\u001b[0m\u001b[1;33m[\u001b[0m\u001b[1;36m0\u001b[0m\u001b[1;33m]\u001b[0m\u001b[1;33m*\u001b[0m\u001b[1;36m1\u001b[0m\u001b[1;33m)\u001b[0m\u001b[1;33m)\u001b[0m\u001b[1;33m\u001b[0m\u001b[1;33m\u001b[0m\u001b[0m\n\u001b[0;32m    141\u001b[0m \u001b[1;33m\u001b[0m\u001b[0m\n\u001b[1;32m--> 142\u001b[1;33m                         \u001b[0mprint\u001b[0m\u001b[1;33m(\u001b[0m\u001b[0mimage_arr\u001b[0m\u001b[1;33m.\u001b[0m\u001b[0mshape\u001b[0m\u001b[1;33m(\u001b[0m\u001b[1;33m)\u001b[0m\u001b[1;33m)\u001b[0m\u001b[1;33m\u001b[0m\u001b[1;33m\u001b[0m\u001b[0m\n\u001b[0m\u001b[0;32m    143\u001b[0m \u001b[1;33m\u001b[0m\u001b[0m\n\u001b[0;32m    144\u001b[0m                         \u001b[0mblack\u001b[0m \u001b[1;33m=\u001b[0m \u001b[1;36m0\u001b[0m\u001b[1;33m\u001b[0m\u001b[1;33m\u001b[0m\u001b[0m\n",
      "\u001b[1;31mTypeError\u001b[0m: 'tuple' object is not callable"
     ]
    }
   ],
   "source": [
    "process_image = cv_data_conversion().template_mode().template_usage(template_json, files_to_capture, data_export)"
   ]
  },
  {
   "cell_type": "code",
   "execution_count": 49,
   "id": "05ce0dce",
   "metadata": {},
   "outputs": [],
   "source": [
    "image_path = r\"C:\\Users\\brans\\Documents\\Application-files-utilities\\VScode\\Project-007\\Data-storage\\spreadsheet-1.jpg\"\n",
    "spreadsheet_export_path = r\"C:\\Users\\brans\\Downloads\\spreadsheet.csv\""
   ]
  },
  {
   "cell_type": "code",
   "execution_count": 27,
   "id": "6eb997ee",
   "metadata": {},
   "outputs": [],
   "source": [
    "spreadsheet_process = cv_data_conversion().spreadsheet_mode().spreadsheet_capture(image_path, spreadsheet_export_path)"
   ]
  },
  {
   "cell_type": "code",
   "execution_count": null,
   "id": "cb3480d1",
   "metadata": {},
   "outputs": [],
   "source": []
  }
 ],
 "metadata": {
  "kernelspec": {
   "display_name": "Python 3 (ipykernel)",
   "language": "python",
   "name": "python3"
  },
  "language_info": {
   "codemirror_mode": {
    "name": "ipython",
    "version": 3
   },
   "file_extension": ".py",
   "mimetype": "text/x-python",
   "name": "python",
   "nbconvert_exporter": "python",
   "pygments_lexer": "ipython3",
   "version": "3.7.13"
  }
 },
 "nbformat": 4,
 "nbformat_minor": 5
}

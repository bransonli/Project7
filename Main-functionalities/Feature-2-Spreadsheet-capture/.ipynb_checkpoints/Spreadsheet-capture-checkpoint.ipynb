{
 "cells": [
  {
   "cell_type": "code",
   "execution_count": 1,
   "id": "2d3f33d8",
   "metadata": {},
   "outputs": [],
   "source": [
    "import cv2\n",
    "import numpy as np\n",
    "from matplotlib import pyplot as plt\n",
    "import time\n",
    "from tesserocr import PyTessBaseAPI\n",
    "import os\n",
    "from PIL import Image\n",
    "import json"
   ]
  },
  {
   "cell_type": "code",
   "execution_count": 5,
   "id": "9989299d",
   "metadata": {},
   "outputs": [
    {
     "name": "stdout",
     "output_type": "stream",
     "text": [
      "['Hello, hi, hello Hello Hello Hello Hello Hello Hello Hello Hello\\nWhat What What What What What What What What\\n']\n"
     ]
    }
   ],
   "source": [
    "with PyTessBaseAPI(path=r'C:\\Users\\brans\\Documents\\Application-files-utilities\\VScode\\Project-007\\Tessdata', lang='eng_best') as api:\n",
    "    api.SetImageFile(r\"C:\\Users\\brans\\Documents\\Application-files-utilities\\VScode\\Project-007\\Data-storage\\spreadsheet-2.jpg\")\n",
    "    print([api.GetUTF8Text()])"
   ]
  },
  {
   "cell_type": "code",
   "execution_count": null,
   "id": "dc612a4b",
   "metadata": {},
   "outputs": [],
   "source": []
  }
 ],
 "metadata": {
  "kernelspec": {
   "display_name": "Python 3 (ipykernel)",
   "language": "python",
   "name": "python3"
  },
  "language_info": {
   "codemirror_mode": {
    "name": "ipython",
    "version": 3
   },
   "file_extension": ".py",
   "mimetype": "text/x-python",
   "name": "python",
   "nbconvert_exporter": "python",
   "pygments_lexer": "ipython3",
   "version": "3.7.13"
  }
 },
 "nbformat": 4,
 "nbformat_minor": 5
}

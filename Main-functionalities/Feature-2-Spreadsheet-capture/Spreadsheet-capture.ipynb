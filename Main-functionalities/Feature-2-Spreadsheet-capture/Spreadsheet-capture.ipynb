{
 "cells": [
  {
   "cell_type": "code",
   "execution_count": 23,
   "id": "2d3f33d8",
   "metadata": {},
   "outputs": [],
   "source": [
    "import cv2\n",
    "import numpy as np\n",
    "from matplotlib import pyplot as plt\n",
    "import time\n",
    "from tesserocr import PyTessBaseAPI\n",
    "import os\n",
    "from PIL import Image\n",
    "import json\n",
    "import string\n",
    "import pandas as pd"
   ]
  },
  {
   "cell_type": "code",
   "execution_count": 14,
   "id": "9989299d",
   "metadata": {},
   "outputs": [
    {
     "name": "stdout",
     "output_type": "stream",
     "text": [
      "Hello, hi, hello Hello Hello Hello Hello Hello Hello Hello Hello\n",
      "What What What What What What What What What\n",
      "\n"
     ]
    }
   ],
   "source": [
    "with PyTessBaseAPI(path=r'C:\\Users\\brans\\OneDrive\\Documents\\Application-files-utilities\\VScode\\Project-007\\Tessdata', lang='eng_best') as api:\n",
    "    api.SetImageFile(r\"C:\\Users\\brans\\OneDrive\\Documents\\Application-files-utilities\\VScode\\Project-007\\Data-storage\\spreadsheet-2.jpg\")\n",
    "    print(api.GetUTF8Text())\n",
    "    text = api.GetUTF8Text()"
   ]
  },
  {
   "cell_type": "code",
   "execution_count": 15,
   "id": "dc612a4b",
   "metadata": {},
   "outputs": [
    {
     "name": "stdout",
     "output_type": "stream",
     "text": [
      "['Hello,', 'hi,', 'hello', 'Hello', 'Hello', 'Hello', 'Hello', 'Hello', 'Hello', 'Hello', 'Hello', 'xxx', 'What', 'What', 'What', 'What', 'What', 'What', 'What', 'What', 'What', 'xxx']\n"
     ]
    }
   ],
   "source": [
    "# turn words into list by using the space in between them\n",
    "text = text.replace(\"\\n\", \" xxx \")\n",
    "text = text.split()\n",
    "print(text)"
   ]
  },
  {
   "cell_type": "code",
   "execution_count": 19,
   "id": "fb5ffb6f",
   "metadata": {},
   "outputs": [],
   "source": [
    "# turn list into two dimensional array\n",
    "\n",
    "array = []\n",
    "temp_array = []\n",
    "count = 0\n",
    "\n",
    "while count < len(text):\n",
    "    if text[count] == 'xxx':\n",
    "        array.append(temp_array)\n",
    "        temp_array = []\n",
    "    else: \n",
    "        temp_array.append(text[count])\n",
    "    \n",
    "    count = count + 1\n",
    "    "
   ]
  },
  {
   "cell_type": "code",
   "execution_count": 20,
   "id": "0343c0b0",
   "metadata": {},
   "outputs": [
    {
     "name": "stdout",
     "output_type": "stream",
     "text": [
      "[['Hello,', 'hi,', 'hello', 'Hello', 'Hello', 'Hello', 'Hello', 'Hello', 'Hello', 'Hello', 'Hello'], ['What', 'What', 'What', 'What', 'What', 'What', 'What', 'What', 'What']]\n"
     ]
    }
   ],
   "source": [
    "print(array)"
   ]
  },
  {
   "cell_type": "code",
   "execution_count": 24,
   "id": "4165b2f0",
   "metadata": {},
   "outputs": [
    {
     "data": {
      "text/html": [
       "<div>\n",
       "<style scoped>\n",
       "    .dataframe tbody tr th:only-of-type {\n",
       "        vertical-align: middle;\n",
       "    }\n",
       "\n",
       "    .dataframe tbody tr th {\n",
       "        vertical-align: top;\n",
       "    }\n",
       "\n",
       "    .dataframe thead th {\n",
       "        text-align: right;\n",
       "    }\n",
       "</style>\n",
       "<table border=\"1\" class=\"dataframe\">\n",
       "  <thead>\n",
       "    <tr style=\"text-align: right;\">\n",
       "      <th></th>\n",
       "      <th>0</th>\n",
       "      <th>1</th>\n",
       "      <th>2</th>\n",
       "      <th>3</th>\n",
       "      <th>4</th>\n",
       "      <th>5</th>\n",
       "      <th>6</th>\n",
       "      <th>7</th>\n",
       "      <th>8</th>\n",
       "      <th>9</th>\n",
       "      <th>10</th>\n",
       "    </tr>\n",
       "  </thead>\n",
       "  <tbody>\n",
       "    <tr>\n",
       "      <th>0</th>\n",
       "      <td>Hello,</td>\n",
       "      <td>hi,</td>\n",
       "      <td>hello</td>\n",
       "      <td>Hello</td>\n",
       "      <td>Hello</td>\n",
       "      <td>Hello</td>\n",
       "      <td>Hello</td>\n",
       "      <td>Hello</td>\n",
       "      <td>Hello</td>\n",
       "      <td>Hello</td>\n",
       "      <td>Hello</td>\n",
       "    </tr>\n",
       "    <tr>\n",
       "      <th>1</th>\n",
       "      <td>What</td>\n",
       "      <td>What</td>\n",
       "      <td>What</td>\n",
       "      <td>What</td>\n",
       "      <td>What</td>\n",
       "      <td>What</td>\n",
       "      <td>What</td>\n",
       "      <td>What</td>\n",
       "      <td>What</td>\n",
       "      <td>None</td>\n",
       "      <td>None</td>\n",
       "    </tr>\n",
       "  </tbody>\n",
       "</table>\n",
       "</div>"
      ],
      "text/plain": [
       "       0     1      2      3      4      5      6      7      8      9      10\n",
       "0  Hello,   hi,  hello  Hello  Hello  Hello  Hello  Hello  Hello  Hello  Hello\n",
       "1    What  What   What   What   What   What   What   What   What   None   None"
      ]
     },
     "execution_count": 24,
     "metadata": {},
     "output_type": "execute_result"
    }
   ],
   "source": [
    "df = pd.DataFrame(array)\n",
    "df"
   ]
  },
  {
   "cell_type": "code",
   "execution_count": null,
   "id": "c8168fdb",
   "metadata": {},
   "outputs": [],
   "source": []
  }
 ],
 "metadata": {
  "kernelspec": {
   "display_name": "Python 3 (ipykernel)",
   "language": "python",
   "name": "python3"
  },
  "language_info": {
   "codemirror_mode": {
    "name": "ipython",
    "version": 3
   },
   "file_extension": ".py",
   "mimetype": "text/x-python",
   "name": "python",
   "nbconvert_exporter": "python",
   "pygments_lexer": "ipython3",
   "version": "3.7.13"
  }
 },
 "nbformat": 4,
 "nbformat_minor": 5
}

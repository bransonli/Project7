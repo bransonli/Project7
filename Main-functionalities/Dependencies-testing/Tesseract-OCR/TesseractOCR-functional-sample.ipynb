{
 "cells": [
  {
   "cell_type": "code",
   "execution_count": 6,
   "id": "8152312a",
   "metadata": {},
   "outputs": [],
   "source": [
    "from tesserocr import PyTessBaseAPI\n",
    "from PIL import Image"
   ]
  },
  {
   "cell_type": "code",
   "execution_count": 2,
   "id": "fc5431dd",
   "metadata": {},
   "outputs": [],
   "source": [
    "column = Image.open(r'C:\\Users\\brans\\Documents\\Application-files-utilities\\VScode\\Project-007\\Data-storage\\hi-2.jpg')\n",
    "gray = column.convert('L')\n",
    "blackwhite = gray.point(lambda x: 0 if x < 200 else 255, '1')\n",
    "blackwhite.save(r'C:\\Users\\brans\\Documents\\Application-files-utilities\\VScode\\Project-007\\Data-storage\\sample.jpeg')"
   ]
  },
  {
   "cell_type": "code",
   "execution_count": 22,
   "id": "08691afc",
   "metadata": {},
   "outputs": [
    {
     "name": "stdout",
     "output_type": "stream",
     "text": [
      "\n"
     ]
    }
   ],
   "source": [
    "with PyTessBaseAPI(path=r'C:\\Users\\brans\\Documents\\Application-files-utilities\\VScode\\Project-007\\Tessdata', lang='eng_best') as api:\n",
    "    api.SetImageFile(r'C:\\Users\\brans\\Documents\\Application-files-utilities\\VScode\\Project-007\\Data-storage\\hi-9.jpg')\n",
    "    print(api.GetUTF8Text())"
   ]
  },
  {
   "cell_type": "code",
   "execution_count": null,
   "id": "f9db231a",
   "metadata": {},
   "outputs": [],
   "source": []
  }
 ],
 "metadata": {
  "kernelspec": {
   "display_name": "Python 3 (ipykernel)",
   "language": "python",
   "name": "python3"
  },
  "language_info": {
   "codemirror_mode": {
    "name": "ipython",
    "version": 3
   },
   "file_extension": ".py",
   "mimetype": "text/x-python",
   "name": "python",
   "nbconvert_exporter": "python",
   "pygments_lexer": "ipython3",
   "version": "3.7.13"
  }
 },
 "nbformat": 4,
 "nbformat_minor": 5
}

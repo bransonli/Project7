{
 "cells": [
  {
   "cell_type": "code",
   "execution_count": 4,
   "id": "02095bc2",
   "metadata": {},
   "outputs": [],
   "source": [
    "import cv2\n",
    "import numpy as np"
   ]
  },
  {
   "cell_type": "code",
   "execution_count": 7,
   "id": "19cbbabf",
   "metadata": {},
   "outputs": [
    {
     "name": "stdout",
     "output_type": "stream",
     "text": [
      "(6, 1, 2)\n"
     ]
    }
   ],
   "source": [
    "img =  cv2.imread(r\"C:\\Users\\brans\\Documents\\Application-files-utilities\\VScode\\Project-007\\Data-storage\\form-1.png\")\n",
    "gray = cv2.cvtColor(img,cv2.COLOR_BGR2GRAY)\n",
    "\n",
    "thresh_inv = cv2.threshold(gray, 0, 255, cv2.THRESH_BINARY_INV+cv2.THRESH_OTSU)[1]\n",
    "\n",
    "# Blur the image\n",
    "blur = cv2.GaussianBlur(thresh_inv,(1,1),0)\n",
    "\n",
    "thresh = cv2.threshold(blur, 0, 255, cv2.THRESH_BINARY+cv2.THRESH_OTSU)[1]\n",
    "\n",
    "# find contours\n",
    "contours = cv2.findContours(thresh, cv2.RETR_EXTERNAL, cv2.CHAIN_APPROX_SIMPLE)[0]\n",
    "\n",
    "print(contours.shape)\n",
    "\n",
    "mask = np.ones(img.shape[:2], dtype=\"uint8\") * 255\n",
    "for c in contours:\n",
    "    # get the bounding rect\n",
    "    x, y, w, h = cv2.boundingRect(c)\n",
    "    if w*h>1000:\n",
    "        cv2.rectangle(mask, (x, y), (x+w, y+h), (0, 0, 255), -1)\n",
    "\n",
    "res_final = cv2.bitwise_and(img, img, mask=cv2.bitwise_not(mask))\n",
    "\n",
    "#cv2.imshow(\"boxes\", mask)\n",
    "#cv2.imshow(\"final image\", res_final)\n",
    "#cv2.waitKey(0)\n",
    "#cv2.destroyAllWindows()"
   ]
  },
  {
   "cell_type": "code",
   "execution_count": null,
   "id": "7345cff0",
   "metadata": {},
   "outputs": [],
   "source": []
  }
 ],
 "metadata": {
  "kernelspec": {
   "display_name": "Python 3",
   "language": "python",
   "name": "python3"
  },
  "language_info": {
   "codemirror_mode": {
    "name": "ipython",
    "version": 3
   },
   "file_extension": ".py",
   "mimetype": "text/x-python",
   "name": "python",
   "nbconvert_exporter": "python",
   "pygments_lexer": "ipython3",
   "version": "3.8.8"
  }
 },
 "nbformat": 4,
 "nbformat_minor": 5
}
